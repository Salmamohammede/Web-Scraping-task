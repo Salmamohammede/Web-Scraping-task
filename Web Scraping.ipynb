{
 "cells": [
  {
   "cell_type": "markdown",
   "id": "c7559384-a067-416d-a391-00e25b1ad0cd",
   "metadata": {},
   "source": [
    "## IMPORTS"
   ]
  },
  {
   "cell_type": "code",
   "execution_count": 1,
   "id": "7943742b-25e9-419f-8189-d9640d72432d",
   "metadata": {},
   "outputs": [],
   "source": [
    "import requests\n",
    "from bs4 import BeautifulSoup\n",
    "import csv\n",
    "page = requests.get(\"https://baraasalout.github.io/test.html\")\n",
    "source = page.content\n",
    "soup = BeautifulSoup(source, \"lxml\")"
   ]
  },
  {
   "cell_type": "markdown",
   "id": "74298cf4-c35f-4817-884f-a2c16c03472b",
   "metadata": {},
   "source": [
    "### 1. Extract Text Data:"
   ]
  },
  {
   "cell_type": "code",
   "execution_count": 2,
   "id": "6f0672d6-8f84-42c3-b0c7-315ce71c4b0c",
   "metadata": {},
   "outputs": [],
   "source": [
    "heading = [h.get_text(strip=True) for h in soup.find_all(['h1','h2'])]\n",
    "paragraphs = [p.get_text(strip=True) for p in soup.find_all('p')]\n",
    "list_items = [li.get_text(strip=True) for li in soup.find_all('li')]"
   ]
  },
  {
   "cell_type": "code",
   "execution_count": 5,
   "id": "7107b2c4-14d1-4e81-9c55-31d4805ad867",
   "metadata": {},
   "outputs": [],
   "source": [
    "with open(\"Extract_Text_Data.csv\", \"w\", newline=\"\", encoding=\"utf-8\") as f:\n",
    "    writer = csv.DictWriter(f,fieldnames = [\"Type\", \"Content\"])\n",
    "    writer.writeheader()\n",
    "    for h in heading:\n",
    "        writer.writerow({\"Type\": \"Heading\", \"Content\": h})\n",
    "    for p in paragraphs:\n",
    "        writer.writerow({\"Type\": \"Paragraph\", \"Content\": p})\n",
    "    for l in list_items:\n",
    "        writer.writerow({\"Type\": \"List Item\", \"Content\": l})"
   ]
  },
  {
   "cell_type": "markdown",
   "id": "c68edef5-bf28-4640-95d8-e14297e3c009",
   "metadata": {},
   "source": [
    "### 2. Extract Table Data:"
   ]
  },
  {
   "cell_type": "code",
   "execution_count": 8,
   "id": "16cb65a5-d4c9-4a6b-8879-e0f5bab7cd02",
   "metadata": {},
   "outputs": [
    {
     "name": "stdout",
     "output_type": "stream",
     "text": [
      "['Product', 'Price', 'In Stock']\n"
     ]
    }
   ],
   "source": [
    "table = soup.find('table')\n",
    "tableHeaders = [h.get_text(strip=True) for h in table.find_all('th')]"
   ]
  },
  {
   "cell_type": "code",
   "execution_count": 14,
   "id": "4ec1a536-8fb3-46cd-ba84-6dba10abcc17",
   "metadata": {},
   "outputs": [],
   "source": [
    "rows = table.find_all('tr')\n",
    "with open('Extract_Table_Data.csv', 'w', encoding='UTF8', newline='') as f:\n",
    "    writer = csv.writer(f)\n",
    "    writer.writerow(tableHeaders)\n",
    "    for r in rows[1:]:\n",
    "        element = [tr.get_text(strip=True) for tr in r.find_all('td')]\n",
    "        writer.writerow(element)\n",
    "        "
   ]
  },
  {
   "cell_type": "code",
   "execution_count": null,
   "id": "0cf4d2da-0463-4a0d-b171-aca0c7033183",
   "metadata": {},
   "outputs": [],
   "source": []
  }
 ],
 "metadata": {
  "kernelspec": {
   "display_name": "Python [conda env:base] *",
   "language": "python",
   "name": "conda-base-py"
  },
  "language_info": {
   "codemirror_mode": {
    "name": "ipython",
    "version": 3
   },
   "file_extension": ".py",
   "mimetype": "text/x-python",
   "name": "python",
   "nbconvert_exporter": "python",
   "pygments_lexer": "ipython3",
   "version": "3.11.5"
  }
 },
 "nbformat": 4,
 "nbformat_minor": 5
}
